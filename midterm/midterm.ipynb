{
 "cells": [
  {
   "cell_type": "markdown",
   "metadata": {},
   "source": [
    "# Midterm\n",
    "I'm intersted in visualizing song lyrics in similar manner as lain does in this [article](https://paulvanderlaken.com/2017/09/27/text-mining-pythonic-heavy-metal/).\n",
    "\n",
    "Since the dataset being used in this article I will look at a song lyrics [dataset](https://www.kaggle.com/gyani95/380000-lyrics-from-metrolyrics) found on Kaggle.\n",
    "\n",
    "For the purpose of this assignment I will only be looking at lyrics within the Metal genre. As a former fan of the Metal genre, I will create a list of words that I consider to be \"Metal\" and judge a song's metalness based on the proportion of occurances of \"Metal\" to non-\"Metal\" words.\n",
    "\n",
    "This proportion will be used as the Metalness score and will be fed into a clustering algorithm to cluster songs (and potentially artists, albums, or years) based on metalness. \n",
    "\n",
    "## How to run\n",
    "Explanations will be contained within this notebook file (midterm.ipynb), while interactive Bokeh visualizations will be located in a separate python file (midterm.py).\n",
    "\n",
    "Due to the size of the dataset, it will have to be downloaded separately [here](https://www.kaggle.com/gyani95/380000-lyrics-from-metrolyrics) then extracted and placed within the data directory.\n",
    "\n",
    "To run the interactive visualizations, type `bokeh serve --show midterm.py` into a terminal within this directory.\n",
    "\n",
    "```python\n",
    "metal_words = ['fire', 'hell', 'kill', 'slaughter', 'witch', 'scream', 'storm', 'darkness', 'fires', 'demon'\n",
    "               'demons', 'devil', 'satan', 'mountains', 'hellfire', 'fireball', 'vikings', 'viking', 'ritual',\n",
    "               'burn', 'cries', 'veins', 'eternity', 'breathe', 'beast', 'gonna', 'ashes', 'soul', 'sword',\n",
    "               'sorrow', 'pray', 'reign', 'flames']\n",
    "```"
   ]
  },
  {
   "cell_type": "code",
   "execution_count": null,
   "metadata": {},
   "outputs": [],
   "source": []
  }
 ],
 "metadata": {
  "kernelspec": {
   "display_name": "Python [default]",
   "language": "python",
   "name": "python3"
  },
  "language_info": {
   "codemirror_mode": {
    "name": "ipython",
    "version": 3
   },
   "file_extension": ".py",
   "mimetype": "text/x-python",
   "name": "python",
   "nbconvert_exporter": "python",
   "pygments_lexer": "ipython3",
   "version": "3.6.2"
  }
 },
 "nbformat": 4,
 "nbformat_minor": 2
}
